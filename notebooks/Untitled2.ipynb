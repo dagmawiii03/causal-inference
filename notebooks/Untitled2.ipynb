{
 "cells": [
  {
   "cell_type": "markdown",
   "id": "2b18d748",
   "metadata": {},
   "source": [
    "<h1><center>Exploratory Data Analysis </center></h1>"
   ]
  },
  {
   "cell_type": "markdown",
   "id": "5f03016a",
   "metadata": {},
   "source": [
    "## Importing Modules "
   ]
  },
  {
   "cell_type": "code",
   "execution_count": 1,
   "id": "742e2e15",
   "metadata": {},
   "outputs": [],
   "source": [
    "#import important modules for eda\n",
    "import os\n",
    "import sys\n",
    "import warnings\n",
    "import numpy as np\n",
    "import pandas as pd\n",
    "import seaborn as sns\n",
    "import matplotlib.pyplot as plt\n",
    "from IPython.display import Image\n",
    "from IPython.display import Markdown, display, Image, display_html\n",
    "from scipy.stats import skew"
   ]
  },
  {
   "cell_type": "code",
   "execution_count": 2,
   "id": "6757c1ec",
   "metadata": {},
   "outputs": [],
   "source": [
    "#ignore warnings\n",
    "sns.set()\n",
    "%matplotlib inline\n",
    "warnings.filterwarnings(\"ignore\")\n",
    "pd.set_option('display.max_columns', None)\n",
    "pd.set_option('display.max_colwidth', None)\n",
    "pd.set_option(\"expand_frame_repr\", False)\n",
    "pd.set_option('display.float_format', '{:.2f}'.format)"
   ]
  },
  {
   "cell_type": "code",
   "execution_count": 4,
   "id": "5105576f",
   "metadata": {},
   "outputs": [],
   "source": [
    "#import local modules\n",
    "sys.path.append(os.path.abspath(os.path.join('../scripts')))\n",
    "from overview import Overview\n",
    "from outlier import Outlier\n",
    "from visualization import *\n",
    "from pre_process import Process\n",
    "from cleaner import *"
   ]
  },
  {
   "cell_type": "code",
   "execution_count": 5,
   "id": "070c8ea6",
   "metadata": {},
   "outputs": [],
   "source": [
    "#creating processing object\n",
    "process = Process()"
   ]
  },
  {
   "cell_type": "code",
   "execution_count": null,
   "id": "e6702b8e",
   "metadata": {},
   "outputs": [],
   "source": []
  }
 ],
 "metadata": {
  "kernelspec": {
   "display_name": "causality",
   "language": "python",
   "name": "causality"
  },
  "language_info": {
   "codemirror_mode": {
    "name": "ipython",
    "version": 3
   },
   "file_extension": ".py",
   "mimetype": "text/x-python",
   "name": "python",
   "nbconvert_exporter": "python",
   "pygments_lexer": "ipython3",
   "version": "3.7.13"
  }
 },
 "nbformat": 4,
 "nbformat_minor": 5
}
