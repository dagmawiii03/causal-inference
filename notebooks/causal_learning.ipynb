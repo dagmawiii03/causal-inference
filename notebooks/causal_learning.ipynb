{
 "cells": [
  {
   "cell_type": "code",
   "execution_count": 7,
   "id": "4f2c33b1",
   "metadata": {},
   "outputs": [],
   "source": [
    "#importing important modules\n",
    "import sys\n",
    "import os\n",
    "import warnings\n",
    "import numpy as np\n",
    "import pandas as pd\n",
    "import seaborn as sns\n",
    "import matplotlib.pyplot as plt"
   ]
  },
  {
   "cell_type": "code",
   "execution_count": 4,
   "id": "39dad1aa",
   "metadata": {},
   "outputs": [],
   "source": [
    "#importing causalnex modules\n",
    "from causalnex.discretiser import Discretiser\n",
    "from causalnex.structure import DAGRegressor\n",
    "from causalnex.inference import InferenceEngine\n",
    "from causalnex.network import BayesianNetwork\n",
    "from causalnex.network.sklearn import BayesianNetworkClassifier\n",
    "from causalnex.structure.notears import from_pandas\n",
    "from causalnex.structure.notears import from_pandas, from_pandas_lasso\n",
    "from causalnex.discretiser.discretiser_strategy import ( DecisionTreeSupervisedDiscretiserMethod )"
   ]
  },
  {
   "cell_type": "code",
   "execution_count": 5,
   "id": "3a20ab11",
   "metadata": {},
   "outputs": [],
   "source": [
    "#modeling modules\n",
    "from sklearn.model_selection import KFold\n",
    "from sklearn.model_selection import train_test_split\n",
    "from sklearn.metrics import recall_score, f1_score, accuracy_score, precision_score"
   ]
  },
  {
   "cell_type": "code",
   "execution_count": 10,
   "id": "ef12c648",
   "metadata": {},
   "outputs": [],
   "source": [
    "#importing the local modules\n",
    "sys.path.append(os.path.abspath(os.path.join('../scripts')))\n",
    "from outlier import Outlier\n",
    "from overview import Overview\n",
    "from pre_process import Process\n",
    "import visualization as viz"
   ]
  },
  {
   "cell_type": "code",
   "execution_count": null,
   "id": "a32ae600",
   "metadata": {},
   "outputs": [],
   "source": [
    "#creating process object\n"
   ]
  }
 ],
 "metadata": {
  "kernelspec": {
   "display_name": "Python 3 (ipykernel)",
   "language": "python",
   "name": "python3"
  },
  "language_info": {
   "codemirror_mode": {
    "name": "ipython",
    "version": 3
   },
   "file_extension": ".py",
   "mimetype": "text/x-python",
   "name": "python",
   "nbconvert_exporter": "python",
   "pygments_lexer": "ipython3",
   "version": "3.7.13"
  }
 },
 "nbformat": 4,
 "nbformat_minor": 5
}
